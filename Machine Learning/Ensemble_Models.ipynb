{
  "nbformat": 4,
  "nbformat_minor": 0,
  "metadata": {
    "anaconda-cloud": {},
    "kernelspec": {
      "name": "python3",
      "display_name": "Python 3"
    },
    "colab": {
      "name": "Ensemble Models Cont'd.ipynb",
      "provenance": [],
      "collapsed_sections": []
    }
  },
  "cells": [
    {
      "cell_type": "markdown",
      "metadata": {
        "id": "4c01Iq_QqEgM"
      },
      "source": [
        "# Ensemble Models Continued"
      ]
    },
    {
      "cell_type": "code",
      "metadata": {
        "id": "HDL4O5S0qEgQ"
      },
      "source": [
        "%matplotlib inline\n",
        "import numpy as np\n",
        "import pandas as pd\n",
        "import matplotlib.pyplot as plt\n",
        "import seaborn as sns; sns.set()"
      ],
      "execution_count": 1,
      "outputs": []
    },
    {
      "cell_type": "markdown",
      "metadata": {
        "id": "FsJ1g_GhqEgg"
      },
      "source": [
        "Just as using information from two trees improves our results, we might expect that using information from many trees would improve our results even further."
      ]
    },
    {
      "cell_type": "markdown",
      "metadata": {
        "id": "8x3xaGRLqEgk"
      },
      "source": [
        "## Review: Random Forest Regression\n",
        "\n",
        "In the previous section we considered random forests within the context of classification.\n",
        "Random forests can also be made to work in the case of regression (that is, continuous rather than categorical variables). The estimator to use for this is the ``RandomForestRegressor``, and the syntax is very similar to what we saw earlier.\n",
        "\n",
        "Consider the following data, drawn from the combination of a fast and slow oscillation:"
      ]
    },
    {
      "cell_type": "code",
      "metadata": {
        "id": "QZsbdEgiqEgn",
        "colab": {
          "base_uri": "https://localhost:8080/"
        },
        "outputId": "cc2d894d-8db9-41ed-d288-4a5df0d887ed"
      },
      "source": [
        "from sklearn.ensemble import RandomForestRegressor\n",
        "from sklearn.datasets import load_boston\n",
        "from sklearn.model_selection import cross_val_score\n",
        "from sklearn.model_selection import train_test_split\n",
        "boston = load_boston()\n",
        "\n",
        "Xtrain, Xtest, ytrain, ytest = train_test_split(boston.data, boston.target,\n",
        "                                                random_state=0)\n",
        "\n",
        "forest = RandomForestRegressor(n_estimators=200)\n",
        "formodel = forest.fit(Xtrain, ytrain)\n",
        "formodel.score(Xtest, ytest)\n"
      ],
      "execution_count": 2,
      "outputs": [
        {
          "output_type": "execute_result",
          "data": {
            "text/plain": [
              "0.8015840152603878"
            ]
          },
          "metadata": {},
          "execution_count": 2
        }
      ]
    },
    {
      "cell_type": "markdown",
      "metadata": {
        "id": "sLaowTljqEg7"
      },
      "source": [
        "# Parameters of Interest for Random Forest Models"
      ]
    },
    {
      "cell_type": "markdown",
      "metadata": {
        "id": "YpVDYK2NqEg9"
      },
      "source": [
        " - n_estimators:\n",
        "     - Number of trees to generate for model"
      ]
    },
    {
      "cell_type": "markdown",
      "metadata": {
        "id": "l2zPf1DjqEg_"
      },
      "source": [
        " - max_depth:\n",
        "     - tunes the number of times internal nodes are split.  (i.e.-tree size)"
      ]
    },
    {
      "cell_type": "markdown",
      "metadata": {
        "id": "S0KwBbPvqEhB"
      },
      "source": [
        " - max_features:\n",
        "     - Number of randomly selected features per split."
      ]
    },
    {
      "cell_type": "markdown",
      "metadata": {
        "id": "sgm0zlJMqEhD"
      },
      "source": [
        " - criterion:\n",
        "     - 'gini' or 'entropy' for classification and 'mse' for regression"
      ]
    },
    {
      "cell_type": "markdown",
      "metadata": {
        "id": "XB4PGS1LqEhF"
      },
      "source": [
        "\n",
        "\n",
        "```\n",
        "\n",
        "```\n",
        "\n",
        " - min_samples_leaf:\n",
        "     - set threshold for minimum number of observations per terminal node.  (also a tree size parameter)"
      ]
    },
    {
      "cell_type": "markdown",
      "metadata": {
        "id": "C88gRSUsqEhG"
      },
      "source": [
        " - oob_score:\n",
        "     - returns out of bag score in model fit object.  Extract result by printing the 'estimators_features_' from model fit object. "
      ]
    },
    {
      "cell_type": "markdown",
      "metadata": {
        "id": "rQH4PscVqEhI"
      },
      "source": [
        "# Extract important variables from model fit object"
      ]
    },
    {
      "cell_type": "code",
      "metadata": {
        "scrolled": true,
        "id": "QbdZiRIEqEhK",
        "colab": {
          "base_uri": "https://localhost:8080/"
        },
        "outputId": "6a5c5f4b-c3ae-405b-c3f4-8e85d1f71f0c"
      },
      "source": [
        "# Feature importance on a 0 to 1 normalized scale can be extracted from tree models:\n",
        "\n",
        "print(formodel.feature_importances_)  \n",
        "#in same order as feature names in data\n",
        "boston.feature_names # RM is most important variable in model.  Variable measures the Number of rooms."
      ],
      "execution_count": 3,
      "outputs": [
        {
          "output_type": "stream",
          "name": "stdout",
          "text": [
            "[0.038026   0.0011235  0.00751321 0.00107299 0.01648633 0.41225129\n",
            " 0.01137471 0.04024071 0.00414224 0.01894852 0.02186381 0.00950864\n",
            " 0.41744806]\n"
          ]
        },
        {
          "output_type": "execute_result",
          "data": {
            "text/plain": [
              "array(['CRIM', 'ZN', 'INDUS', 'CHAS', 'NOX', 'RM', 'AGE', 'DIS', 'RAD',\n",
              "       'TAX', 'PTRATIO', 'B', 'LSTAT'], dtype='<U7')"
            ]
          },
          "metadata": {},
          "execution_count": 3
        }
      ]
    },
    {
      "cell_type": "markdown",
      "metadata": {
        "id": "XerFG9hVqEhV"
      },
      "source": [
        "# Gradient Boosted Trees"
      ]
    },
    {
      "cell_type": "code",
      "metadata": {
        "id": "2OBOcRnYqEhX",
        "colab": {
          "base_uri": "https://localhost:8080/"
        },
        "outputId": "3f355443-6b0b-4cbe-e0f2-19361cd9708f"
      },
      "source": [
        "#Regression model example first...\n",
        "\n",
        "from sklearn.ensemble import GradientBoostingRegressor\n",
        "from sklearn.model_selection import train_test_split\n",
        "\n",
        "Xtrain, Xtest, ytrain, ytest = train_test_split(boston.data, boston.target,\n",
        "                                                random_state=0)\n",
        "\n",
        "model = GradientBoostingRegressor(n_estimators=5000, max_depth=2, learning_rate=.01)\n",
        "modelfit = model.fit(Xtrain,ytrain)\n",
        "print(modelfit)\n",
        "print(modelfit.score(Xtest, ytest))\n"
      ],
      "execution_count": 4,
      "outputs": [
        {
          "output_type": "stream",
          "name": "stdout",
          "text": [
            "GradientBoostingRegressor(alpha=0.9, ccp_alpha=0.0, criterion='friedman_mse',\n",
            "                          init=None, learning_rate=0.01, loss='ls', max_depth=2,\n",
            "                          max_features=None, max_leaf_nodes=None,\n",
            "                          min_impurity_decrease=0.0, min_impurity_split=None,\n",
            "                          min_samples_leaf=1, min_samples_split=2,\n",
            "                          min_weight_fraction_leaf=0.0, n_estimators=5000,\n",
            "                          n_iter_no_change=None, presort='deprecated',\n",
            "                          random_state=None, subsample=1.0, tol=0.0001,\n",
            "                          validation_fraction=0.1, verbose=0, warm_start=False)\n",
            "0.7488550391402992\n"
          ]
        }
      ]
    },
    {
      "cell_type": "markdown",
      "metadata": {
        "id": "BBpurtTlqEho"
      },
      "source": [
        "## GB learns slowly.  Need more trees"
      ]
    },
    {
      "cell_type": "code",
      "metadata": {
        "id": "TtRHqXH_qEhp",
        "colab": {
          "base_uri": "https://localhost:8080/"
        },
        "outputId": "d3227f50-2ddf-46eb-d753-6932c00e4db1"
      },
      "source": [
        "model = GradientBoostingRegressor(n_estimators=2000, max_depth=2, learning_rate=.01) # 200 trees to 20000\n",
        "modelfit = model.fit(Xtrain,ytrain)\n",
        "\n",
        "print(modelfit.score(Xtest, ytest)) "
      ],
      "execution_count": 5,
      "outputs": [
        {
          "output_type": "stream",
          "name": "stdout",
          "text": [
            "0.7530530190459476\n"
          ]
        }
      ]
    },
    {
      "cell_type": "markdown",
      "metadata": {
        "id": "-WxpCwzYqEh9"
      },
      "source": [
        "## learning_rate affects how fast you train model.  Also a tuning parameter"
      ]
    },
    {
      "cell_type": "code",
      "metadata": {
        "id": "XX-5tq8aqEh_",
        "colab": {
          "base_uri": "https://localhost:8080/"
        },
        "outputId": "faa3a3e4-2e34-460d-a476-e06806106151"
      },
      "source": [
        "model = GradientBoostingRegressor(n_estimators=20000, max_depth=2, learning_rate=.001) # .01 to .001\n",
        "modelfit = model.fit(Xtrain,ytrain)\n",
        "\n",
        "print(modelfit.score(Xtest, ytest)) "
      ],
      "execution_count": 6,
      "outputs": [
        {
          "output_type": "stream",
          "name": "stdout",
          "text": [
            "0.7493735834471835\n"
          ]
        }
      ]
    },
    {
      "cell_type": "markdown",
      "metadata": {
        "id": "ilyrtDbOqEiH"
      },
      "source": [
        "## Parameters of interest..."
      ]
    },
    {
      "cell_type": "markdown",
      "metadata": {
        "id": "awid707QqEiK"
      },
      "source": [
        "n_estimators:\n",
        "    The number of weak learners (i.e. regression trees) is controlled by the parameter n_estimators; \n",
        "\n",
        "max_depth:\n",
        "    The size of each tree can be controlled either by setting the tree depth via max_depth or by setting the number of leaf \n",
        "    nodes via max_leaf_nodes. \n",
        "\n",
        "max_leaf_nodes:\n",
        "    The size of each tree can be controlled either by setting the tree depth via max_depth or by setting the number of leaf \n",
        "    nodes via max_leaf_nodes. \n",
        "  \n",
        "learning_rate:\n",
        "\n",
        "learning rate shrinks the contribution of each tree by learning_rate. There is a trade-off between learning_rate and n_estimators."
      ]
    },
    {
      "cell_type": "code",
      "metadata": {
        "id": "8LP03X7AqEiP"
      },
      "source": [
        "# Gradient boosted classification trees follow the same syntax"
      ],
      "execution_count": null,
      "outputs": []
    },
    {
      "cell_type": "code",
      "metadata": {
        "id": "WI-6VL8MqEia",
        "colab": {
          "base_uri": "https://localhost:8080/"
        },
        "outputId": "3808d5aa-b008-415d-bd49-09fc12bf0afe"
      },
      "source": [
        "from sklearn.datasets import make_hastie_10_2 \n",
        "from sklearn.ensemble import GradientBoostingClassifier\n",
        "\n",
        "#make some data\n",
        "X, y = make_hastie_10_2(random_state=0)\n",
        "X_train, X_test = X[:2000], X[2000:]\n",
        "y_train, y_test = y[:2000], y[2000:]\n",
        "\n",
        "clf = GradientBoostingClassifier(n_estimators=10000, learning_rate=.01,\n",
        "    max_depth=1, random_state=0).fit(X_train, y_train)\n",
        "clf.score(X_test, y_test) "
      ],
      "execution_count": 7,
      "outputs": [
        {
          "output_type": "execute_result",
          "data": {
            "text/plain": [
              "0.92"
            ]
          },
          "metadata": {},
          "execution_count": 7
        }
      ]
    },
    {
      "cell_type": "code",
      "metadata": {
        "id": "4euzuT8vqEir",
        "colab": {
          "base_uri": "https://localhost:8080/"
        },
        "outputId": "e0c5d09f-6674-4b5f-fa6b-fdcc70a3f6fa"
      },
      "source": [
        "# As with other tree models we can extract important features:\n",
        "\n",
        "clf.feature_importances_  "
      ],
      "execution_count": 8,
      "outputs": [
        {
          "output_type": "execute_result",
          "data": {
            "text/plain": [
              "array([0.09499473, 0.11713611, 0.11121054, 0.09199524, 0.09189469,\n",
              "       0.11504453, 0.09092718, 0.10018704, 0.09982287, 0.08678707])"
            ]
          },
          "metadata": {},
          "execution_count": 8
        }
      ]
    },
    {
      "cell_type": "markdown",
      "metadata": {
        "id": "oGRGTKhdqEi6"
      },
      "source": [
        "# Making predictions from and ensemble of ensemble classification models:\n",
        "\n",
        "\n",
        "\n"
      ]
    },
    {
      "cell_type": "code",
      "metadata": {
        "id": "jGB3RTssqEi9"
      },
      "source": [
        "from sklearn.model_selection import train_test_split\n",
        "from sklearn.datasets import make_moons\n",
        "\n",
        "X, y = make_moons(n_samples=500, noise=0.30, random_state=42)\n",
        "\n",
        "X_train, X_test, y_train, y_test = train_test_split(X, y, random_state=42)"
      ],
      "execution_count": 9,
      "outputs": []
    },
    {
      "cell_type": "code",
      "metadata": {
        "id": "ICYGiU6QqEjI",
        "colab": {
          "base_uri": "https://localhost:8080/",
          "height": 268
        },
        "outputId": "ec5dc91c-755a-48dd-a77b-a762c0280805"
      },
      "source": [
        "plt.scatter(X[:, 0], X[:, 1], c=y, s=50, cmap='rainbow');"
      ],
      "execution_count": 10,
      "outputs": [
        {
          "output_type": "display_data",
          "data": {
            "image/png": "[encoded data removed]",
            "text/plain": [
              "<Figure size 432x288 with 1 Axes>"
            ]
          },
          "metadata": {
            "needs_background": "light"
          }
        }
      ]
    },
    {
      "cell_type": "code",
      "metadata": {
        "id": "SlZKyoBjqEjQ"
      },
      "source": [
        "# 1. Build multiple classification models\n",
        "from sklearn.ensemble import RandomForestClassifier\n",
        "from sklearn.linear_model import LogisticRegression\n",
        "from sklearn.svm import SVC\n",
        "\n",
        "#Generally works better if models you choose have diverse methodological approaches...\n",
        "\n",
        "log_clf = LogisticRegression(random_state=42) # logistic regression w/ C=default\n",
        "rnd_clf = RandomForestClassifier(random_state=42) # Random Forest\n",
        "svm_clf = SVC(random_state=42) # support vector machine\n"
      ],
      "execution_count": 11,
      "outputs": []
    },
    {
      "cell_type": "code",
      "metadata": {
        "id": "UaguymxxqEjY"
      },
      "source": [
        "# Goal is to predict ytest for each model and then use PREDICTIONS FROM EACH MODEL to select final predictions\n",
        "\n",
        "# Need to set up a standard for selecting final prediction:\n",
        "from sklearn.ensemble import VotingClassifier\n",
        "\n",
        "# Estimators arg is giving each estimator a name for references in functions like GridsearchCV\n",
        "\n",
        "# voting='hard' takes majority vote of each predicted value to select final prediction for ytest\n",
        "\n",
        "voting_clf = VotingClassifier(\n",
        "    estimators=[('lr', log_clf), ('rf', rnd_clf), ('svc', svm_clf)],\n",
        "    voting='hard') "
      ],
      "execution_count": 12,
      "outputs": []
    },
    {
      "cell_type": "code",
      "metadata": {
        "id": "pmXjPj9VqEjh",
        "colab": {
          "base_uri": "https://localhost:8080/"
        },
        "outputId": "e5b2ee55-b1d3-46af-b298-6dbfe1cbb160"
      },
      "source": [
        "vmodel = voting_clf.fit(X_train, y_train)\n",
        "print(vmodel.score(X_test, y_test)) #return accuracy of voting classifier"
      ],
      "execution_count": 13,
      "outputs": [
        {
          "output_type": "stream",
          "name": "stdout",
          "text": [
            "0.912\n"
          ]
        }
      ]
    },
    {
      "cell_type": "code",
      "metadata": {
        "id": "rOfn3g2GqEjv",
        "colab": {
          "base_uri": "https://localhost:8080/"
        },
        "outputId": "fa139506-4f84-4f0c-e81c-03ac43650546"
      },
      "source": [
        "# Compare to accuracy of individual models...\n",
        "log_clf = LogisticRegression(random_state=42) # logistic regression w/ C=default\n",
        "rnd_clf = RandomForestClassifier(random_state=42) # Random Forest\n",
        "svm_clf = SVC(random_state=42) # support vector machine\n",
        "\n",
        "print(log_clf.fit(X_train, y_train).score(X_test, y_test))\n",
        "print(rnd_clf.fit(X_train, y_train).score(X_test, y_test))\n",
        "print(svm_clf.fit(X_train, y_train).score(X_test, y_test))\n"
      ],
      "execution_count": 14,
      "outputs": [
        {
          "output_type": "stream",
          "name": "stdout",
          "text": [
            "0.864\n",
            "0.896\n",
            "0.896\n"
          ]
        }
      ]
    },
    {
      "cell_type": "markdown",
      "metadata": {
        "id": "gm1jKT81qEj4"
      },
      "source": [
        "Looks like we improved on these models using the ensemble approach!!"
      ]
    },
    {
      "cell_type": "code",
      "metadata": {
        "id": "f3sSYyZwqEj7"
      },
      "source": [
        "# 'soft' voting takes the predicted probabilities of each model and choose the highest value#"
      ],
      "execution_count": null,
      "outputs": []
    },
    {
      "cell_type": "code",
      "metadata": {
        "id": "S-rSK62zqEkD",
        "colab": {
          "base_uri": "https://localhost:8080/"
        },
        "outputId": "2d23e283-f9fb-4b5b-a5bc-cd79e10e2a92"
      },
      "source": [
        "#Need to ensure that probabilities are generated in each model...\n",
        "\n",
        "log_clf = LogisticRegression(random_state=42)\n",
        "rnd_clf = RandomForestClassifier(random_state=42)\n",
        "svm_clf = SVC(probability=True, random_state=42)\n",
        "\n",
        "voting_clf = VotingClassifier(\n",
        "    estimators=[('lr', log_clf), ('rf', rnd_clf), ('svc', svm_clf)],\n",
        "    voting='soft')\n",
        "voting_clf.fit(X_train, y_train)"
      ],
      "execution_count": 15,
      "outputs": [
        {
          "output_type": "execute_result",
          "data": {
            "text/plain": [
              "VotingClassifier(estimators=[('lr',\n",
              "                              LogisticRegression(C=1.0, class_weight=None,\n",
              "                                                 dual=False, fit_intercept=True,\n",
              "                                                 intercept_scaling=1,\n",
              "                                                 l1_ratio=None, max_iter=100,\n",
              "                                                 multi_class='auto',\n",
              "                                                 n_jobs=None, penalty='l2',\n",
              "                                                 random_state=42,\n",
              "                                                 solver='lbfgs', tol=0.0001,\n",
              "                                                 verbose=0, warm_start=False)),\n",
              "                             ('rf',\n",
              "                              RandomForestClassifier(bootstrap=True,\n",
              "                                                     ccp_alpha=0.0,\n",
              "                                                     class_weight=None,\n",
              "                                                     crit...\n",
              "                                                     oob_score=False,\n",
              "                                                     random_state=42, verbose=0,\n",
              "                                                     warm_start=False)),\n",
              "                             ('svc',\n",
              "                              SVC(C=1.0, break_ties=False, cache_size=200,\n",
              "                                  class_weight=None, coef0=0.0,\n",
              "                                  decision_function_shape='ovr', degree=3,\n",
              "                                  gamma='scale', kernel='rbf', max_iter=-1,\n",
              "                                  probability=True, random_state=42,\n",
              "                                  shrinking=True, tol=0.001, verbose=False))],\n",
              "                 flatten_transform=True, n_jobs=None, voting='soft',\n",
              "                 weights=None)"
            ]
          },
          "metadata": {},
          "execution_count": 15
        }
      ]
    },
    {
      "cell_type": "code",
      "metadata": {
        "id": "gC9LRSqYqEkL"
      },
      "source": [
        "voting_clf = VotingClassifier(\n",
        "    estimators=[('lr', log_clf), ('rf', rnd_clf), ('svc', svm_clf)],\n",
        "    voting='soft') \n",
        "\n",
        "vmodel = voting_clf.fit(X_train, y_train)\n"
      ],
      "execution_count": 18,
      "outputs": []
    },
    {
      "cell_type": "code",
      "metadata": {
        "id": "ohC6m34hqEkS",
        "colab": {
          "base_uri": "https://localhost:8080/"
        },
        "outputId": "710e7a78-a7a9-4ff5-81ac-85e01e797119"
      },
      "source": [
        "print(vmodel.score(X_test, y_test)) #return accuracy of voting classifier"
      ],
      "execution_count": 19,
      "outputs": [
        {
          "output_type": "stream",
          "name": "stdout",
          "text": [
            "0.92\n"
          ]
        }
      ]
    },
    {
      "cell_type": "code",
      "metadata": {
        "id": "wtJATe10qEka"
      },
      "source": [
        "# We do even better with a soft voting approach"
      ],
      "execution_count": null,
      "outputs": []
    },
    {
      "cell_type": "markdown",
      "metadata": {
        "id": "4SAjGGK7qEkh"
      },
      "source": [
        "# Can you build a voting classifier on the following dataset?"
      ]
    },
    {
      "cell_type": "code",
      "metadata": {
        "id": "gEF9pw70qEkj"
      },
      "source": [
        "from sklearn.datasets import load_breast_cancer\n",
        "bc = load_breast_cancer()\n",
        "\n",
        "X=bc.data\n",
        "y = bc.target\n",
        "\n"
      ],
      "execution_count": 20,
      "outputs": []
    }
  ]
}